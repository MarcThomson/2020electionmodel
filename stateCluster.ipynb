{
 "cells": [
  {
   "cell_type": "code",
   "execution_count": null,
   "metadata": {},
   "outputs": [],
   "source": [
    "# -*- coding: utf-8 -*-\n",
    "\"\"\"\n",
    "Created on Tue Jul  7 20:30:42 2020\n",
    "\n",
    "@author: marcw\n",
    "\"\"\"\n",
    "\n",
    "import requests\n",
    "import json\n",
    "import pandas as pd \n",
    "import math\n",
    "from sklearn import mixture"
   ]
  },
  {
   "cell_type": "code",
   "execution_count": 3,
   "metadata": {
    "tags": []
   },
   "outputs": [
    {
     "output_type": "stream",
     "name": "stdout",
     "text": "NAME DP02_0002PE DP02_0003PE DP02_0004PE DP02_0005PE DP02_0006PE  \\\n0     Alabama        65.5        25.1        47.4        16.4         4.2   \n1      Alaska        65.8        30.1        50.2        21.8         6.1   \n2     Arizona        65.5        26.8        47.7        17.6         5.8   \n3    Arkansas        66.5        27.5        47.9        17.4         5.0   \n4  California        68.3        29.3        49.4        20.8         6.1   \n\n  DP02_0007PE DP02_0008PE DP02_0009PE DP02_0010PE  ... DP05_0034PE  \\\n0         1.9        13.9         6.9        34.5  ...        97.9   \n1         3.0         9.5         5.4        34.2  ...        91.6   \n2         3.0        12.0         6.2        34.5  ...        96.0   \n3         2.4        13.7         7.7        33.5  ...        97.1   \n4         2.5        12.9         6.0        31.7  ...        94.9   \n\n  DP05_0035PE DP05_0037PE DP05_0038PE DP05_0039PE DP05_0044PE DP05_0052PE  \\\n0         2.1        67.7        26.7         0.5         1.3         0.0   \n1         8.4        64.4         3.4        15.1         6.3         1.1   \n2         4.0        78.0         4.7         4.6         3.3         0.2   \n3         2.9        76.5        15.2         0.7         1.6         0.3   \n4         5.1        59.5         5.8         0.8        14.7         0.4   \n\n  DP05_0057PE DP05_0071PE DP05_0087PE  \n0         1.7         4.3     3712212  \n1         1.3         7.2      532244  \n2         5.2        31.6     5035771  \n3         2.8         7.6     2224112  \n4        13.8        39.3    25838830  \n\n[5 rows x 173 columns]\n"
    }
   ],
   "source": [
    "\n",
    "\n",
    "baseAPIHead = \"https://api.census.gov/data/2018/acs/acs1/profile?get=NAME,\"\n",
    "baseAPITail = \"&for=state:*&key=e6e686c049dba8c5672e13edb673ee357d9d7295\"\n",
    "\n",
    "dfVariables = pd.read_csv(\"acsVariables.csv\")\n",
    "\n",
    "\n",
    "selectedRows = dfVariables.loc[dfVariables['Include'] == \"X\"][\"Name\"]\n",
    "selectedRows = selectedRows.reset_index()\n",
    "nSelected = selectedRows.count()[0]\n",
    "nGroups = math.ceil(nSelected/48)#1 + (nSelected - nSelected % 48)/48\n",
    "\n",
    "\n",
    "for i in range(nGroups):\n",
    "    if i == (nGroups - 1):\n",
    "        endNum = nSelected\n",
    "    else:\n",
    "        endNum = (i+1)*48\n",
    "        \n",
    "    groupRows = selectedRows.loc[range(i*48,endNum)][\"Name\"]\n",
    "    #getString = str(groupRows[0])\n",
    "    #groupRows = groupRows.reset_index()\n",
    "    #for j in range(1,groupRows.count()[0]):\n",
    "    getParameters =\",\".join(groupRows)\n",
    "    \n",
    "    apiCall = baseAPIHead + getParameters + baseAPITail\n",
    "    response = requests.get(apiCall)\n",
    "    data = response.json()\n",
    "    dfTemp = pd.DataFrame(data[1::])\n",
    "    dfTemp.columns = data[0]\n",
    "    dfTemp = dfTemp.sort_values(by=[\"NAME\"])\n",
    "    dfTemp = dfTemp.reset_index()\n",
    "    if i == 0:\n",
    "        dfTemp = dfTemp.drop([\"index\"],axis=1)\n",
    "        df = dfTemp\n",
    "    else:\n",
    "        dfTemp = dfTemp.drop([\"state\",\"NAME\",\"index\"],axis=1)\n",
    "        df = pd.concat([df, dfTemp], axis=1) #Temp.join(df,on=\"NAME\",how=\"outer\")#"
   ]
  },
  {
   "cell_type": "code",
   "execution_count": 15,
   "metadata": {},
   "outputs": [
    {
     "output_type": "execute_result",
     "data": {
      "text/plain": "0                  Alabama\n1                   Alaska\n2                  Arizona\n3                 Arkansas\n4               California\n5                 Colorado\n6              Connecticut\n7                 Delaware\n8     District of Columbia\n9                  Florida\n10                 Georgia\n11                  Hawaii\n12                   Idaho\n13                Illinois\n14                 Indiana\n15                    Iowa\n16                  Kansas\n17                Kentucky\n18               Louisiana\n19                   Maine\n20                Maryland\n21           Massachusetts\n22                Michigan\n23               Minnesota\n24             Mississippi\n25                Missouri\n26                 Montana\n27                Nebraska\n28                  Nevada\n29           New Hampshire\n30              New Jersey\n31              New Mexico\n32                New York\n33          North Carolina\n34            North Dakota\n35                    Ohio\n36                Oklahoma\n37                  Oregon\n38            Pennsylvania\n39             Puerto Rico\n40            Rhode Island\n41          South Carolina\n42            South Dakota\n43               Tennessee\n44                   Texas\n45                    Utah\n46                 Vermont\n47                Virginia\n48              Washington\n49           West Virginia\n50               Wisconsin\n51                 Wyoming\nName: NAME, dtype: object"
     },
     "metadata": {},
     "execution_count": 15
    }
   ],
   "source": [
    "df['NAME']"
   ]
  },
  {
   "cell_type": "code",
   "execution_count": 16,
   "metadata": {
    "tags": []
   },
   "outputs": [
    {
     "output_type": "execute_result",
     "data": {
      "text/plain": "          NAME DP02_0002PE DP02_0003PE DP02_0004PE DP02_0005PE DP02_0006PE  \\\ncount       52          51          51          51          51          51   \nunique      52          39          39          39          43          19   \ntop     Oregon        62.7        25.7        47.9        18.0         4.5   \nfreq         1           3           5           3           3           8   \n\n       DP02_0007PE DP02_0008PE DP02_0009PE DP02_0010PE  ... DP05_0034PE  \\\ncount           51          51          51          51  ...          52   \nunique          13          32          31          39  ...          28   \ntop            2.3         9.5         6.4        37.3  ...        97.3   \nfreq            10           4           4           3  ...           6   \n\n       DP05_0035PE DP05_0037PE DP05_0038PE DP05_0039PE DP05_0044PE  \\\ncount           52          52          52          52          52   \nunique          28          49          48          22          40   \ntop            2.7        84.0         4.7         0.3         1.6   \nfreq             6           2           2           9           4   \n\n       DP05_0052PE DP05_0057PE DP05_0071PE DP05_0087PE  \ncount           52          52          52          52  \nunique          10          37          45          52  \ntop            0.1         2.4         3.9     2075166  \nfreq            21           3           4           1  \n\n[4 rows x 173 columns]",
      "text/html": "<div>\n<style scoped>\n    .dataframe tbody tr th:only-of-type {\n        vertical-align: middle;\n    }\n\n    .dataframe tbody tr th {\n        vertical-align: top;\n    }\n\n    .dataframe thead th {\n        text-align: right;\n    }\n</style>\n<table border=\"1\" class=\"dataframe\">\n  <thead>\n    <tr style=\"text-align: right;\">\n      <th></th>\n      <th>NAME</th>\n      <th>DP02_0002PE</th>\n      <th>DP02_0003PE</th>\n      <th>DP02_0004PE</th>\n      <th>DP02_0005PE</th>\n      <th>DP02_0006PE</th>\n      <th>DP02_0007PE</th>\n      <th>DP02_0008PE</th>\n      <th>DP02_0009PE</th>\n      <th>DP02_0010PE</th>\n      <th>...</th>\n      <th>DP05_0034PE</th>\n      <th>DP05_0035PE</th>\n      <th>DP05_0037PE</th>\n      <th>DP05_0038PE</th>\n      <th>DP05_0039PE</th>\n      <th>DP05_0044PE</th>\n      <th>DP05_0052PE</th>\n      <th>DP05_0057PE</th>\n      <th>DP05_0071PE</th>\n      <th>DP05_0087PE</th>\n    </tr>\n  </thead>\n  <tbody>\n    <tr>\n      <th>count</th>\n      <td>52</td>\n      <td>51</td>\n      <td>51</td>\n      <td>51</td>\n      <td>51</td>\n      <td>51</td>\n      <td>51</td>\n      <td>51</td>\n      <td>51</td>\n      <td>51</td>\n      <td>...</td>\n      <td>52</td>\n      <td>52</td>\n      <td>52</td>\n      <td>52</td>\n      <td>52</td>\n      <td>52</td>\n      <td>52</td>\n      <td>52</td>\n      <td>52</td>\n      <td>52</td>\n    </tr>\n    <tr>\n      <th>unique</th>\n      <td>52</td>\n      <td>39</td>\n      <td>39</td>\n      <td>39</td>\n      <td>43</td>\n      <td>19</td>\n      <td>13</td>\n      <td>32</td>\n      <td>31</td>\n      <td>39</td>\n      <td>...</td>\n      <td>28</td>\n      <td>28</td>\n      <td>49</td>\n      <td>48</td>\n      <td>22</td>\n      <td>40</td>\n      <td>10</td>\n      <td>37</td>\n      <td>45</td>\n      <td>52</td>\n    </tr>\n    <tr>\n      <th>top</th>\n      <td>Oregon</td>\n      <td>62.7</td>\n      <td>25.7</td>\n      <td>47.9</td>\n      <td>18.0</td>\n      <td>4.5</td>\n      <td>2.3</td>\n      <td>9.5</td>\n      <td>6.4</td>\n      <td>37.3</td>\n      <td>...</td>\n      <td>97.3</td>\n      <td>2.7</td>\n      <td>84.0</td>\n      <td>4.7</td>\n      <td>0.3</td>\n      <td>1.6</td>\n      <td>0.1</td>\n      <td>2.4</td>\n      <td>3.9</td>\n      <td>2075166</td>\n    </tr>\n    <tr>\n      <th>freq</th>\n      <td>1</td>\n      <td>3</td>\n      <td>5</td>\n      <td>3</td>\n      <td>3</td>\n      <td>8</td>\n      <td>10</td>\n      <td>4</td>\n      <td>4</td>\n      <td>3</td>\n      <td>...</td>\n      <td>6</td>\n      <td>6</td>\n      <td>2</td>\n      <td>2</td>\n      <td>9</td>\n      <td>4</td>\n      <td>21</td>\n      <td>3</td>\n      <td>4</td>\n      <td>1</td>\n    </tr>\n  </tbody>\n</table>\n<p>4 rows × 173 columns</p>\n</div>"
     },
     "metadata": {},
     "execution_count": 16
    }
   ],
   "source": [
    "df.describe()\n"
   ]
  },
  {
   "cell_type": "code",
   "execution_count": null,
   "metadata": {},
   "outputs": [],
   "source": []
  }
 ],
 "metadata": {
  "language_info": {
   "codemirror_mode": {
    "name": "ipython",
    "version": 3
   },
   "file_extension": ".py",
   "mimetype": "text/x-python",
   "name": "python",
   "nbconvert_exporter": "python",
   "pygments_lexer": "ipython3",
   "version": 3
  },
  "orig_nbformat": 2,
  "kernelspec": {
   "name": "python_defaultSpec_1594943443156",
   "display_name": "Python 3.8.2 64-bit"
  }
 },
 "nbformat": 4,
 "nbformat_minor": 2
}